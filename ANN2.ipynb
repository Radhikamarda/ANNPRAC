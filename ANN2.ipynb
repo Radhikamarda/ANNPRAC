{
 "cells": [
  {
   "cell_type": "code",
   "execution_count": 1,
   "metadata": {},
   "outputs": [
    {
     "name": "stdout",
     "output_type": "stream",
     "text": [
      "ANDNOT(0, 0) = 0\n",
      "ANDNOT(0, 1) = 0\n",
      "ANDNOT(1, 0) = 0\n",
      "ANDNOT(1, 1) = 1\n"
     ]
    }
   ],
   "source": [
    "# Define the threshold value for the neuron\n",
    "threshold = -1\n",
    "\n",
    "# Define the weights for each input\n",
    "w1 = 1\n",
    "w2 = 1\n",
    "\n",
    "# Define the input values for each test case\n",
    "inputs = [(0, 0), (0, 1), (1, 0), (1, 1)]\n",
    "\n",
    "# Implement the McCulloch-Pitts model to calculate the output for each test case\n",
    "for x1, x2 in inputs:\n",
    "    # Calculate the net input\n",
    "    net = w1*x1 + w2*x2 + threshold\n",
    "    \n",
    "    # Apply the activation function\n",
    "    if net <= 0:\n",
    "        output = 0\n",
    "    else:\n",
    "        output = 1\n",
    "    \n",
    "    # Print the output for each test case\n",
    "    print(f\"ANDNOT({x1}, {x2}) = {output}\")"
   ]
  }
 ],
 "metadata": {
  "kernelspec": {
   "display_name": "Python 3.10.6 64-bit",
   "language": "python",
   "name": "python3"
  },
  "language_info": {
   "codemirror_mode": {
    "name": "ipython",
    "version": 3
   },
   "file_extension": ".py",
   "mimetype": "text/x-python",
   "name": "python",
   "nbconvert_exporter": "python",
   "pygments_lexer": "ipython3",
   "version": "3.10.6"
  },
  "orig_nbformat": 4,
  "vscode": {
   "interpreter": {
    "hash": "efebef93848af86820ba5c9af15e3b0ea109bf901e8b1e27dbaca7b722da8278"
   }
  }
 },
 "nbformat": 4,
 "nbformat_minor": 2
}
