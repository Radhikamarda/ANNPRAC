{
 "cells": [
  {
   "cell_type": "code",
   "execution_count": 4,
   "metadata": {},
   "outputs": [
    {
     "name": "stdout",
     "output_type": "stream",
     "text": [
      "Input: [0 0 0 1 1 1 1 0 1 1] - Prediction: Odd\n",
      "Input: [0 1 1 1 1 1 0 1 1 1] - Prediction: Odd\n",
      "Input: [0 0 0 0 0 0 1 1 1 1] - Prediction: Odd\n",
      "Input: [0 0 1 1 1 1 0 0 1 1] - Prediction: Even\n",
      "Input: [0 1 0 1 1 1 1 0 1 1] - Prediction: Odd\n",
      "Input: [0 1 1 1 0 1 1 1 1 1] - Prediction: Even\n",
      "Input: [0 1 1 1 1 1 0 0 1 1] - Prediction: Odd\n",
      "Input: [0 1 1 0 1 1 1 1 1 1] - Prediction: Even\n",
      "Input: [0 1 1 0 1 1 1 1 1 1] - Prediction: Even\n",
      "Input: [0 1 1 1 1 0 0 0 1 1] - Prediction: Odd\n",
      "Input: [0 1 1 1 1 1 1 1 1 1] - Prediction: Even\n",
      "Input: [0 1 1 1 1 1 0 0 1 1] - Prediction: Odd\n"
     ]
    }
   ],
   "source": [
    "import numpy as np\n",
    "# Training data\n",
    "X = np.array([\n",
    "    [0,0,0,0,0,0,1,1,1,1], # 0\n",
    "    [0,0,1,1,1,1,0,0,1,1], # 1\n",
    "    [0,1,0,1,1,1,1,0,1,1], # 2\n",
    "    [0,1,1,1,0,1,1,1,1,1], # 3\n",
    "    [0,1,1,1,1,1,0,0,1,1], # 4\n",
    "    [0,1,1,0,1,1,1,1,1,1], # 5\n",
    "    [0,1,1,0,1,1,1,1,1,1], # 6\n",
    "    [0,1,1,1,1,0,0,0,1,1], # 7\n",
    "    [0,1,1,1,1,1,1,1,1,1], # 8\n",
    "    [0,1,1,1,1,1,0,0,1,1]  # 9\n",
    "])\n",
    "y = np.array([-1, 1, -1, 1, -1, 1, 1, -1, 1, -1])\n",
    "\n",
    "# Perceptron Class\n",
    "class Perceptron:\n",
    "    def __init__(self, input_size):\n",
    "        self.weights = np.random.rand(input_size)\n",
    "        self.bias = np.random.rand()\n",
    "\n",
    "    def forward(self, inputs):\n",
    "        activation = np.dot(self.weights, inputs) + self.bias\n",
    "        return np.sign(activation)\n",
    "\n",
    "    def train(self, inputs, target, epochs, lr):\n",
    "        for epoch in range(epochs):\n",
    "            for i in range(inputs.shape[0]):\n",
    "                x = inputs[i]\n",
    "                y = target[i]\n",
    "                y_pred = self.forward(x)\n",
    "                self.weights += lr * (y - y_pred) * x\n",
    "                self.bias += lr * (y - y_pred)\n",
    "\n",
    "# Create Perceptron object\n",
    "p = Perceptron(10)\n",
    "\n",
    "# Train the Perceptron on the training data\n",
    "p.train(X, y, epochs=100, lr=0.1)\n",
    "\n",
    "# Test the Perceptron on new data\n",
    "test_data = np.array([\n",
    "    [0,0,0,1,1,1,1,0,1,1], # odd number\n",
    "    [0,1,1,1,1,1,0,1,1,1], # even number\n",
    "    [0,0,0,0,0,0,1,1,1,1], # 0\n",
    "    [0,0,1,1,1,1,0,0,1,1], # 1\n",
    "    [0,1,0,1,1,1,1,0,1,1], # 2\n",
    "    [0,1,1,1,0,1,1,1,1,1], # 3\n",
    "    [0,1,1,1,1,1,0,0,1,1], # 4\n",
    "    [0,1,1,0,1,1,1,1,1,1], # 5\n",
    "    [0,1,1,0,1,1,1,1,1,1], # 6\n",
    "    [0,1,1,1,1,0,0,0,1,1], # 7\n",
    "    [0,1,1,1,1,1,1,1,1,1], # 8\n",
    "    [0,1,1,1,1,1,0,0,1,1]  # 9\n",
    "])\n",
    "for i in range(test_data.shape[0]):\n",
    "    x = test_data[i]\n",
    "    y_pred = p.forward(x)\n",
    "    print(f\"Input: {x} - Prediction: {'Odd' if y_pred == -1 else 'Even'}\")\n",
    "\n"
   ]
  },
  {
   "cell_type": "code",
   "execution_count": 5,
   "metadata": {},
   "outputs": [
    {
     "name": "stdout",
     "output_type": "stream",
     "text": [
      "Input: [0 0 0 1 1 1 1 0 1 1] - Prediction: Even\n",
      "Input: [0 1 1 1 1 1 0 1 1 1] - Prediction: Odd\n"
     ]
    }
   ],
   "source": [
    "import numpy as np\n",
    "\n",
    "# Define the training data\n",
    "X = np.array([\n",
    "    [0,0,0,0,0,0,1,1,1,1], # 0\n",
    "    [0,0,1,1,1,1,0,0,1,1], # 1\n",
    "    [0,1,0,1,1,1,1,0,1,1], # 2\n",
    "    [0,1,1,1,0,1,1,1,1,1], # 3\n",
    "    [0,1,1,1,1,1,0,0,1,1], # 4\n",
    "    [0,1,1,0,1,1,1,1,1,1], # 5\n",
    "    [0,1,1,0,1,1,1,1,1,1], # 6\n",
    "    [0,1,1,1,1,0,0,0,1,1], # 7\n",
    "    [0,1,1,1,1,1,1,1,1,1], # 8\n",
    "    [0,1,1,1,1,1,0,0,1,1]  # 9\n",
    "])\n",
    "y = np.array([0, 1, 0, 1, 0, 1, 1, 0, 1, 0]) # 0 for even, 1 for odd\n",
    "\n",
    "# Define the Perceptron function\n",
    "def perceptron(X, y):\n",
    "    w = np.zeros(X.shape[1]) # Initialize weights to zeros\n",
    "    b = 0.0 # Initialize bias to zero\n",
    "    lr = 0.1 # Set the learning rate\n",
    "    epochs = 100 # Set the number of epochs\n",
    "\n",
    "    for epoch in range(epochs):\n",
    "        for i in range(X.shape[0]):\n",
    "            x = X[i]\n",
    "            z = np.dot(w, x) + b # Calculate the weighted sum\n",
    "            y_pred = int(z >= 0) # Apply the threshold function\n",
    "            error = y[i] - y_pred # Calculate the error\n",
    "            w += lr * error * x # Update the weights\n",
    "            b += lr * error # Update the bias\n",
    "\n",
    "    return w, b\n",
    "\n",
    "# Train the Perceptron\n",
    "w, b = perceptron(X, y)\n",
    "\n",
    "# Test the Perceptron on new data\n",
    "test_data = np.array([\n",
    "    [0,0,0,1,1,1,1,0,1,1], # odd number\n",
    "    [0,1,1,1,1,1,0,1,1,1], # even number\n",
    "])\n",
    "for x in test_data:\n",
    "    z = np.dot(w, x) + b # Calculate the weighted sum\n",
    "    y_pred = int(z >= 0) # Apply the threshold function\n",
    "    print(f\"Input: {x} - Prediction: {'Odd' if y_pred == 1 else 'Even'}\")"
   ]
  }
 ],
 "metadata": {
  "kernelspec": {
   "display_name": "Python 3.10.6 64-bit",
   "language": "python",
   "name": "python3"
  },
  "language_info": {
   "codemirror_mode": {
    "name": "ipython",
    "version": 3
   },
   "file_extension": ".py",
   "mimetype": "text/x-python",
   "name": "python",
   "nbconvert_exporter": "python",
   "pygments_lexer": "ipython3",
   "version": "3.10.6"
  },
  "orig_nbformat": 4,
  "vscode": {
   "interpreter": {
    "hash": "efebef93848af86820ba5c9af15e3b0ea109bf901e8b1e27dbaca7b722da8278"
   }
  }
 },
 "nbformat": 4,
 "nbformat_minor": 2
}
