{
 "cells": [
  {
   "cell_type": "code",
   "execution_count": 2,
   "metadata": {},
   "outputs": [],
   "source": [
    "import tensorflow as tf\n",
    "from tensorflow.keras import layers"
   ]
  },
  {
   "cell_type": "code",
   "execution_count": 3,
   "metadata": {},
   "outputs": [],
   "source": [
    "# Load the data\n",
    "(train_images, train_labels), (test_images, test_labels) = tf.keras.datasets.mnist.load_data()\n",
    "\n",
    "# Normalize the data\n",
    "train_images = train_images / 255.0\n",
    "test_images = test_images / 255.0\n"
   ]
  },
  {
   "cell_type": "code",
   "execution_count": 4,
   "metadata": {},
   "outputs": [
    {
     "name": "stdout",
     "output_type": "stream",
     "text": [
      "Epoch 1/10\n",
      "1875/1875 [==============================] - 33s 14ms/step - loss: 0.2590 - accuracy: 0.9263 - val_loss: 0.1392 - val_accuracy: 0.9600\n",
      "Epoch 2/10\n",
      "1875/1875 [==============================] - 22s 12ms/step - loss: 0.1123 - accuracy: 0.9667 - val_loss: 0.1054 - val_accuracy: 0.9689\n",
      "Epoch 3/10\n",
      "1875/1875 [==============================] - 22s 11ms/step - loss: 0.0772 - accuracy: 0.9770 - val_loss: 0.0851 - val_accuracy: 0.9737\n",
      "Epoch 4/10\n",
      "1875/1875 [==============================] - 23s 12ms/step - loss: 0.0580 - accuracy: 0.9818 - val_loss: 0.0729 - val_accuracy: 0.9769\n",
      "Epoch 5/10\n",
      "1875/1875 [==============================] - 26s 14ms/step - loss: 0.0447 - accuracy: 0.9859 - val_loss: 0.0744 - val_accuracy: 0.9769\n",
      "Epoch 6/10\n",
      "1875/1875 [==============================] - 25s 14ms/step - loss: 0.0364 - accuracy: 0.9888 - val_loss: 0.0724 - val_accuracy: 0.9777\n",
      "Epoch 7/10\n",
      "1875/1875 [==============================] - 25s 13ms/step - loss: 0.0287 - accuracy: 0.9910 - val_loss: 0.0736 - val_accuracy: 0.9787\n",
      "Epoch 8/10\n",
      "1875/1875 [==============================] - 26s 14ms/step - loss: 0.0221 - accuracy: 0.9933 - val_loss: 0.0703 - val_accuracy: 0.9801\n",
      "Epoch 9/10\n",
      "1875/1875 [==============================] - 25s 13ms/step - loss: 0.0190 - accuracy: 0.9943 - val_loss: 0.0768 - val_accuracy: 0.9789\n",
      "Epoch 10/10\n",
      "1875/1875 [==============================] - 24s 13ms/step - loss: 0.0161 - accuracy: 0.9948 - val_loss: 0.0882 - val_accuracy: 0.9757\n",
      "313/313 [==============================] - 3s 9ms/step - loss: 0.0882 - accuracy: 0.9757\n",
      "Test accuracy: 0.9757000207901001\n"
     ]
    }
   ],
   "source": [
    "# Reshape the data\n",
    "train_images = train_images.reshape(-1, 784)\n",
    "test_images = test_images.reshape(-1, 784)\n",
    "# Define the model\n",
    "model = tf.keras.Sequential([\n",
    "    layers.Dense(128, activation='relu', input_shape=(784,)),\n",
    "    layers.Dense(10, activation='softmax')\n",
    "])\n",
    "\n",
    "# Compile the model\n",
    "model.compile(optimizer='adam', loss='sparse_categorical_crossentropy', metrics=['accuracy'])\n",
    "\n",
    "# Train the model\n",
    "model.fit(train_images, train_labels, epochs=10, validation_data=(test_images, test_labels))\n",
    "\n",
    "# Evaluate the model\n",
    "test_loss, test_acc = model.evaluate(test_images, test_labels)\n",
    "print('Test accuracy:', test_acc)\n"
   ]
  },
  {
   "cell_type": "markdown",
   "metadata": {},
   "source": [
    "                                                                OR\n"
   ]
  },
  {
   "cell_type": "code",
   "execution_count": 1,
   "metadata": {},
   "outputs": [],
   "source": [
    "import tensorflow as tf\n",
    "from sklearn.datasets import load_breast_cancer\n",
    "from sklearn.model_selection import train_test_split\n"
   ]
  },
  {
   "cell_type": "code",
   "execution_count": 2,
   "metadata": {},
   "outputs": [],
   "source": [
    "# Load the data\n",
    "data = load_breast_cancer()\n",
    "X_train, X_test, y_train, y_test = train_test_split(data.data, data.target, test_size=0.2)\n"
   ]
  },
  {
   "cell_type": "code",
   "execution_count": 3,
   "metadata": {},
   "outputs": [],
   "source": [
    "# Normalize the data\n",
    "X_train = (X_train - X_train.mean(axis=0)) / X_train.std(axis=0)\n",
    "X_test = (X_test - X_train.mean(axis=0)) / X_train.std(axis=0)"
   ]
  },
  {
   "cell_type": "code",
   "execution_count": 4,
   "metadata": {},
   "outputs": [],
   "source": [
    "# Define the model\n",
    "model = tf.keras.Sequential([\n",
    "    tf.keras.layers.Dense(1, activation='sigmoid', input_shape=(X_train.shape[1],))\n",
    "])"
   ]
  },
  {
   "cell_type": "code",
   "execution_count": 5,
   "metadata": {},
   "outputs": [
    {
     "name": "stdout",
     "output_type": "stream",
     "text": [
      "Epoch 1/10\n",
      "15/15 [==============================] - 9s 22ms/step - loss: 0.6957 - accuracy: 0.5846\n",
      "Epoch 2/10\n",
      "15/15 [==============================] - 0s 16ms/step - loss: 0.6166 - accuracy: 0.6571\n",
      "Epoch 3/10\n",
      "15/15 [==============================] - 0s 13ms/step - loss: 0.5517 - accuracy: 0.7319\n",
      "Epoch 4/10\n",
      "15/15 [==============================] - 0s 11ms/step - loss: 0.4974 - accuracy: 0.7736\n",
      "Epoch 5/10\n",
      "15/15 [==============================] - 0s 10ms/step - loss: 0.4535 - accuracy: 0.8132\n",
      "Epoch 6/10\n",
      "15/15 [==============================] - 0s 13ms/step - loss: 0.4162 - accuracy: 0.8242\n",
      "Epoch 7/10\n",
      "15/15 [==============================] - 0s 17ms/step - loss: 0.3858 - accuracy: 0.8374\n",
      "Epoch 8/10\n",
      "15/15 [==============================] - 0s 15ms/step - loss: 0.3597 - accuracy: 0.8593\n",
      "Epoch 9/10\n",
      "15/15 [==============================] - 0s 15ms/step - loss: 0.3370 - accuracy: 0.8791\n",
      "Epoch 10/10\n",
      "15/15 [==============================] - 0s 15ms/step - loss: 0.3174 - accuracy: 0.8901\n",
      "4/4 [==============================] - 2s 19ms/step - loss: 89.8422 - accuracy: 0.5877\n",
      "Test accuracy: 0.5877193212509155\n"
     ]
    }
   ],
   "source": [
    "# Compile the model\n",
    "model.compile(optimizer='adam', loss='binary_crossentropy', metrics=['accuracy'])\n",
    "# Train the model\n",
    "model.fit(X_train, y_train, epochs=10)\n",
    "# Evaluate the model\n",
    "test_loss, test_acc = model.evaluate(X_test, y_test)\n",
    "print('Test accuracy:', test_acc)"
   ]
  }
 ],
 "metadata": {
  "kernelspec": {
   "display_name": "Python 3.10.6 64-bit",
   "language": "python",
   "name": "python3"
  },
  "language_info": {
   "codemirror_mode": {
    "name": "ipython",
    "version": 3
   },
   "file_extension": ".py",
   "mimetype": "text/x-python",
   "name": "python",
   "nbconvert_exporter": "python",
   "pygments_lexer": "ipython3",
   "version": "3.10.6"
  },
  "orig_nbformat": 4,
  "vscode": {
   "interpreter": {
    "hash": "efebef93848af86820ba5c9af15e3b0ea109bf901e8b1e27dbaca7b722da8278"
   }
  }
 },
 "nbformat": 4,
 "nbformat_minor": 2
}
