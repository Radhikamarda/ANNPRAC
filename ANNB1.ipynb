{
 "cells": [
  {
   "cell_type": "code",
   "execution_count": 4,
   "metadata": {},
   "outputs": [
    {
     "name": "stdout",
     "output_type": "stream",
     "text": [
      "Epoch 0: Loss 0.8725511895307583\n",
      "Epoch 5000: Loss 0.026277935522086855\n",
      "Epoch 10000: Loss 0.01723706961771534\n",
      "Epoch 15000: Loss 0.013684583220941479\n",
      "Epoch 20000: Loss 0.011669435992336757\n",
      "Epoch 25000: Loss 0.01033299864828558\n",
      "Epoch 30000: Loss 0.009365096893987802\n",
      "Epoch 35000: Loss 0.008623155665348624\n",
      "Epoch 40000: Loss 0.00803138014781044\n",
      "Epoch 45000: Loss 0.0075453093964910935\n",
      "\n",
      "Trained XOR neural network outputs:\n",
      "Input: [0 0] -> Output: 0\n",
      "Input: [0 1] -> Output: 1\n",
      "Input: [1 0] -> Output: 1\n",
      "Input: [1 1] -> Output: 0\n"
     ]
    }
   ],
   "source": [
    "import warnings #B1 xor\n",
    "warnings.filterwarnings('ignore')\n",
    "import numpy as np\n",
    "def sigmoid(x):\n",
    "    return 1 / (1 + np.exp(-x))\n",
    "def sigmoid_derivative(x):\n",
    "    return x * (1 - x)\n",
    "def binary_cross_entropy(y_true, y_pred):\n",
    "    return -np.mean(y_true * np.log(y_pred) + (1 - y_true) * np.log(1 - y_pred))\n",
    "inputs = np.array([[0, 0], [0, 1], [1, 0], [1, 1]])\n",
    "outputs = np.array([[0], [1], [1], [0]])\n",
    "np.random.seed(42)\n",
    "input_layer_neurons = 2\n",
    "hidden_layer_neurons = 2\n",
    "output_layer_neurons = 1\n",
    "hidden_weights = np.random.uniform(size=(input_layer_neurons, hidden_layer_neurons))\n",
    "hidden_bias = np.random.uniform(size=(1, hidden_layer_neurons))\n",
    "output_weights = np.random.uniform(size=(hidden_layer_neurons, output_layer_neurons))\n",
    "output_bias = np.random.uniform(size=(1, output_layer_neurons))\n",
    "learning_rate = 0.5\n",
    "epochs = 50000\n",
    "for epoch in range(epochs):\n",
    "    hidden_layer_input = np.dot(inputs, hidden_weights) + hidden_bias\n",
    "    hidden_layer_output = sigmoid(hidden_layer_input)\n",
    "    output_layer_input = np.dot(hidden_layer_output, output_weights) + output_bias\n",
    "    predictions = sigmoid(output_layer_input)\n",
    "    error = outputs - predictions\n",
    "    output_delta = error * sigmoid_derivative(predictions)\n",
    "    hidden_delta = output_delta.dot(output_weights.T) * sigmoid_derivative(hidden_layer_output)\n",
    "    output_weights += hidden_layer_output.T.dot(output_delta) * learning_rate\n",
    "    output_bias += np.sum(output_delta, axis=0, keepdims=True) * learning_rate\n",
    "    hidden_weights += inputs.T.dot(hidden_delta) * learning_rate\n",
    "    hidden_bias += np.sum(hidden_delta, axis=0, keepdims=True) * learning_rate\n",
    "    if epoch % 5000 == 0:\n",
    "        loss = binary_cross_entropy(outputs, predictions)\n",
    "        print(f\"Epoch {epoch}: Loss {loss}\")\n",
    "print(\"\\nTrained XOR neural network outputs:\")\n",
    "for i in range(len(inputs)):\n",
    "    print(f\"Input: {inputs[i]} -> Output:\", 1 if predictions[i] >= 0.5 else 0)\n"
   ]
  },
  {
   "cell_type": "code",
   "execution_count": null,
   "metadata": {},
   "outputs": [],
   "source": []
  }
 ],
 "metadata": {
  "kernelspec": {
   "display_name": "Python 3.10.6 64-bit",
   "language": "python",
   "name": "python3"
  },
  "language_info": {
   "codemirror_mode": {
    "name": "ipython",
    "version": 3
   },
   "file_extension": ".py",
   "mimetype": "text/x-python",
   "name": "python",
   "nbconvert_exporter": "python",
   "pygments_lexer": "ipython3",
   "version": "3.10.6"
  },
  "orig_nbformat": 4,
  "vscode": {
   "interpreter": {
    "hash": "efebef93848af86820ba5c9af15e3b0ea109bf901e8b1e27dbaca7b722da8278"
   }
  }
 },
 "nbformat": 4,
 "nbformat_minor": 2
}
